{
 "cells": [
  {
   "cell_type": "code",
   "execution_count": 103,
   "id": "557c8464",
   "metadata": {},
   "outputs": [],
   "source": [
    "from jupyter_plotly_dash import JupyterDash\n",
    "\n",
    "import dash\n",
    "import dash_leaflet as dl\n",
    "from dash import dcc, html\n",
    "import plotly.express as px\n",
    "from dash import dash_table\n",
    "from dash.dependencies import Input, Output\n",
    "from animal_shelter import AnimalShelter\n",
    "import base64"
   ]
  },
  {
   "cell_type": "code",
   "execution_count": 104,
   "id": "98a658e7",
   "metadata": {},
   "outputs": [],
   "source": [
    "import numpy as np\n",
    "import pandas as pd\n",
    "import matplotlib.pyplot as plt\n",
    "from pymongo import MongoClient"
   ]
  },
  {
   "cell_type": "code",
   "execution_count": 105,
   "id": "bca6cc24",
   "metadata": {},
   "outputs": [],
   "source": [
    "###########################\n",
    "# Data Manipulation / Model\n",
    "###########################\n",
    "# FIX ME update with your username and password and CRUD Python module name\n",
    "\n",
    "username = \"aacuser\"\n",
    "password = \"admin\"\n",
    "shelter = AnimalShelter(username, password)"
   ]
  },
  {
   "cell_type": "code",
   "execution_count": 106,
   "id": "34a98c91",
   "metadata": {},
   "outputs": [],
   "source": [
    "# class read method must support return of cursor object and accept projection json input\n",
    "df = pd.DataFrame.from_records(shelter.read({}))\n"
   ]
  },
  {
   "cell_type": "code",
   "execution_count": 107,
   "id": "6eed20e8",
   "metadata": {},
   "outputs": [],
   "source": [
    "#########################\n",
    "# Dashboard Layout / View\n",
    "#########################\n",
    "app = JupyterDash('SimpleExample')\n",
    "\n",
    "#FIX ME Add in Grazioso Salvare’s logo\n",
    "image_filename = 'file.png' # replace with your own image\n",
    "encoded_image = base64.b64encode(open(image_filename, 'rb').read())\n",
    "\n",
    "#FIX ME Place the HTML image tag in the line below into the app.layout code according to your design\n",
    "#FIX ME Also remember to include a unique identifier such as your name or date\n",
    "#html.Img(src='data:image/png;base64,{}'.format(encoded_image.decode()))\n",
    "\n",
    "app.layout = html.Div([\n",
    "    html.Div(id='hidden-div', style={'display':'none'}),\n",
    "    html.A([\n",
    "    html.Img(src='data:image/png;base64, {}'.format(encoded_image.decode()),\n",
    "        style={\n",
    "            'height' : '25%',\n",
    "            'width'  : '25%',\n",
    "            'float'  : 'left',\n",
    "            'position': 'relative',\n",
    "            'padding-top': 0,\n",
    "            'padding-left':0,\n",
    "        })\n",
    "    ], href='https://www.snhu.edu'), \n",
    "html.Center(html.B(html.H1('Search and Rescue Candidate Locator'))),\n",
    "html.Hr(),\n",
    "dcc.Dropdown(\n",
    "id='demo-dropdown',\n",
    "options=[\n",
    "    {'label': 'All', 'value': 'All'},\n",
    "    {'label': 'Water Rescue', 'value': 'MWR'},\n",
    "    {'label': 'Mountain or Wilderness Rescue', 'value': 'MWR'},\n",
    "    {'label': 'Disaster/Individual Tracking', 'value': 'DIT'}\n",
    "],\n",
    "    value='NYC'\n",
    "    \n",
    "),\n",
    "html.Div(className='row',\n",
    "            style={'display' : 'flex'},\n",
    "            children=[\n",
    "                    html.Button(id='submit-button-one', n_clicks=0, children='Cats'),\n",
    "                    html.Button(id='submit-button-two', n_clicks=0, children='Dogs')\n",
    "            ]),\n",
    "dash_table.DataTable(\n",
    "        id='datatable-id',\n",
    "        columns=[\n",
    "            {\"name\": i, \"id\": i, \"deletable\": False, \"selectable\": True} for i in df.columns\n",
    "        ],\n",
    "        data=df.to_dict('records'),  # imports DATA\n",
    "        editable=False,  #start of data Table\n",
    "        filter_action=\"native\",\n",
    "        sort_action=\"native\",\n",
    "        sort_mode=\"multi\",\n",
    "        column_selectable=False,\n",
    "        row_selectable=False,\n",
    "        row_deletable=False,\n",
    "        selected_columns=[],\n",
    "        selected_rows=[],\n",
    "        page_action=\"native\",\n",
    "        page_current= 0,\n",
    "        page_size =10,      \n",
    "    ),\n",
    "html.Br(),\n",
    "html.Hr(),\n",
    "html.Div(className='row',\n",
    "        style={'display' : 'flex'},\n",
    "        children=[\n",
    "        html.Div(\n",
    "            id='graph-id',\n",
    "            className='col s12 m6',\n",
    "         \n",
    "            ),\n",
    "        html.Div(\n",
    "           id='map-id',\n",
    "           className='col s12 m6',\n",
    "            ),\n",
    "   \n",
    "        ]),\n",
    "    html.Br(),\n",
    "    html.Hr(),\n",
    "    html.Header(\"Tenny Vongtip\")\n",
    "    ])\n",
    "           \n"
   ]
  },
  {
   "cell_type": "code",
   "execution_count": 108,
   "id": "905fac9c",
   "metadata": {
    "scrolled": true
   },
   "outputs": [
    {
     "data": {
      "text/html": [
       "<div>\n",
       "  <iframe src=\"/app/endpoints/c1f537f658ea48d1839e6e4e5c652040/\" width=800 height=600 frameborder=\"0\"></iframe>\n",
       "  <hr/><a href=\"/app/endpoints/c1f537f658ea48d1839e6e4e5c652040/\" target=\"_new\">Open in new window</a> for /app/endpoints/c1f537f658ea48d1839e6e4e5c652040/\n",
       "</div>"
      ],
      "text/plain": [
       "<jupyter_plotly_dash.dash_wrapper.JupyterDash at 0x7fa9e5bcba00>"
      ]
     },
     "execution_count": 108,
     "metadata": {},
     "output_type": "execute_result"
    }
   ],
   "source": [
    "#############################################\n",
    "# Interaction Between Components / Controller\n",
    "#############################################\n",
    "#This callback will highlight a row on the data table when the user selects it\n",
    "@app.callback(\n",
    "    Output('datatable-id', 'style_data_conditional'),\n",
    "    [Input('datatable-id', 'selected_columns')]\n",
    ")\n",
    "def update_styles(selected_columns):\n",
    "    return [{\n",
    "        'if': { 'column_id': i },\n",
    "        'background_color': '#D2F3FF'\n",
    "    } for i in selected_columns]\n",
    "\n",
    "\n",
    "@app.callback(\n",
    "    Output('map-id', \"children\"),\n",
    "    [Input('datatable-id', \"derived_viewport_data\")])\n",
    "def update_map(viewData):\n",
    "    df = pd.DataFrame.from_dict(viewData)\n",
    "    # Austin, TX is at [30.75, -97.48]\n",
    "    return [\n",
    "        dl.Map(style={'width': '1000px', 'height': '500px'}, center=[30.75,-97.48], zoom=10, children=[\n",
    "            dl.TileLayer(id=\"base-layer-id\"),\n",
    "            # Marker with tool tip and popup\n",
    "            dl.Marker(position=[30.75,-97.48], children=[\n",
    "                dl.Tooltip(dff.iloc[0,4]),\n",
    "                dl.Popup([\n",
    "                    html.H1(\"Animal Name\"),\n",
    "                    html.P(dff.iloc[1,9])\n",
    "                ])\n",
    "            ])\n",
    "        ])\n",
    "    ]\n",
    "app"
   ]
  },
  {
   "cell_type": "code",
   "execution_count": null,
   "id": "a4f77896",
   "metadata": {},
   "outputs": [],
   "source": []
  },
  {
   "cell_type": "code",
   "execution_count": null,
   "id": "25ce18e3",
   "metadata": {},
   "outputs": [],
   "source": []
  }
 ],
 "metadata": {
  "kernelspec": {
   "display_name": "Python 3 (ipykernel)",
   "language": "python",
   "name": "python3"
  },
  "language_info": {
   "codemirror_mode": {
    "name": "ipython",
    "version": 3
   },
   "file_extension": ".py",
   "mimetype": "text/x-python",
   "name": "python",
   "nbconvert_exporter": "python",
   "pygments_lexer": "ipython3",
   "version": "3.9.12"
  }
 },
 "nbformat": 4,
 "nbformat_minor": 5
}
